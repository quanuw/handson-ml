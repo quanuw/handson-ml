{
 "cells": [
  {
   "cell_type": "code",
   "execution_count": 1,
   "metadata": {},
   "outputs": [
    {
     "data": {
      "text/plain": [
       "'\\n1. What is the approximate depth of a Decision Tree trained (without restrictions) on a training set with 1 million instances?\\nDepth of a Decision Tree is N-1 where N is the number of training samples. You can derive this by considering that the least effective split would be peeling off one training example per node.\\n'"
      ]
     },
     "execution_count": 1,
     "metadata": {},
     "output_type": "execute_result"
    }
   ],
   "source": [
    "'''\n",
    "1. What is the approximate depth of a Decision Tree trained (without restrictions) on a training set with 1 million instances?\n",
    "Depth of a Decision Tree is N-1 where N is the number of training samples. You can derive this by considering that the least effective split would be peeling off one training example per node.\n",
    "'''"
   ]
  },
  {
   "cell_type": "code",
   "execution_count": 2,
   "metadata": {},
   "outputs": [
    {
     "data": {
      "text/plain": [
       "'\\n2. Is a node’s Gini impurity generally lower or greater than its parent’s? Is it generally lower/greater, or always lower/greater?\\nGenerally a nodes Gini umpurity is lower than its parents because the CART traning algorithm uses\\na cost function that produces the purest subsets weighted by their size.\\n'"
      ]
     },
     "execution_count": 2,
     "metadata": {},
     "output_type": "execute_result"
    }
   ],
   "source": [
    "'''\n",
    "2. Is a node’s Gini impurity generally lower or greater than its parent’s? Is it generally lower/greater, or always lower/greater?\n",
    "Generally a nodes Gini umpurity is lower than its parents because the CART traning algorithm uses\n",
    "a cost function that produces the purest subsets weighted by their size.\n",
    "'''"
   ]
  },
  {
   "cell_type": "code",
   "execution_count": 3,
   "metadata": {},
   "outputs": [
    {
     "data": {
      "text/plain": [
       "'\\n3. If a Decision Tree is overfitting the training set, is it a good idea to try decreasing max_depth?\\nYes.\\n'"
      ]
     },
     "execution_count": 3,
     "metadata": {},
     "output_type": "execute_result"
    }
   ],
   "source": [
    "'''\n",
    "3. If a Decision Tree is overfitting the training set, is it a good idea to try decreasing max_depth?\n",
    "Yes.\n",
    "'''"
   ]
  },
  {
   "cell_type": "code",
   "execution_count": 4,
   "metadata": {},
   "outputs": [
    {
     "data": {
      "text/plain": [
       "\"\\n4. If a Decision Tree is underfitting the training set, is it a good idea to try scaling the input features?\\nNo, Decision Trees don't require feature scaling.\\n\""
      ]
     },
     "execution_count": 4,
     "metadata": {},
     "output_type": "execute_result"
    }
   ],
   "source": [
    "'''\n",
    "4. If a Decision Tree is underfitting the training set, is it a good idea to try scaling the input features?\n",
    "No, Decision Trees don't require feature scaling.\n",
    "'''"
   ]
  },
  {
   "cell_type": "code",
   "execution_count": 6,
   "metadata": {},
   "outputs": [
    {
     "data": {
      "text/plain": [
       "'\\n5. If it takes one hour to train a Decision Tree on a training set containing 1 million instances, roughly how much time will it take to train another Decision Tree on a training set containing 10 million instances?\\nThe training complexity is O(n*mlog(m)) where m is the number of samples. So 10,000,000 will take ~11.7 hours to train.\\n'"
      ]
     },
     "execution_count": 6,
     "metadata": {},
     "output_type": "execute_result"
    }
   ],
   "source": [
    "'''\n",
    "5. If it takes one hour to train a Decision Tree on a training set containing 1 million instances, roughly how much time will it take to train another Decision Tree on a training set containing 10 million instances?\n",
    "The training complexity is O(n*mlog(m)) where m is the number of samples. So 10,000,000 will take ~11.7 hours to train.\n",
    "'''"
   ]
  },
  {
   "cell_type": "code",
   "execution_count": 7,
   "metadata": {},
   "outputs": [
    {
     "data": {
      "text/plain": [
       "'\\n6. If your training set contains 100,000 instances, will setting presort=True speed up training?\\nNo, presort will only help if training sets have less than a few thousand instances.\\n'"
      ]
     },
     "execution_count": 7,
     "metadata": {},
     "output_type": "execute_result"
    }
   ],
   "source": [
    "'''\n",
    "6. If your training set contains 100,000 instances, will setting presort=True speed up training?\n",
    "No, presort will only help if training sets have less than a few thousand instances.\n",
    "'''"
   ]
  },
  {
   "cell_type": "code",
   "execution_count": 10,
   "metadata": {},
   "outputs": [
    {
     "name": "stdout",
     "output_type": "stream",
     "text": [
      "(array([[ 0.04918886,  0.03880442],\n",
      "       [ 0.66840088,  0.43954768],\n",
      "       [-1.06656094,  0.95823529],\n",
      "       ..., \n",
      "       [ 0.05261659,  0.2990391 ],\n",
      "       [ 2.09243958,  0.12376245],\n",
      "       [ 1.85218757, -0.0382172 ]]), array([1, 0, 0, ..., 1, 1, 1], dtype=int64))\n"
     ]
    }
   ],
   "source": [
    "# 7\n",
    "from sklearn.datasets import make_moons\n",
    "moons_data = make_moons(n_samples=10000, noise=0.4)\n",
    "print(moons_data)"
   ]
  },
  {
   "cell_type": "code",
   "execution_count": 13,
   "metadata": {},
   "outputs": [
    {
     "name": "stdout",
     "output_type": "stream",
     "text": [
      "[[ 0.20689866  0.58727988]\n",
      " [ 0.68923738 -0.5901777 ]\n",
      " [ 1.16108429  0.28802827]\n",
      " ..., \n",
      " [ 0.04701017  0.39140986]\n",
      " [ 0.33478497 -0.43112472]\n",
      " [-1.2569387   0.36214209]]\n",
      "[1 1 1 ..., 0 1 0]\n",
      "[[ 0.06227006 -0.23812689]\n",
      " [ 0.85767276  0.90188441]\n",
      " [-0.34399856  0.51805382]\n",
      " ..., \n",
      " [ 1.93456617 -0.27820549]\n",
      " [-1.60452987  0.48440922]\n",
      " [ 0.15637643  0.98547289]]\n",
      "[1 0 0 ..., 1 0 0]\n"
     ]
    }
   ],
   "source": [
    "from sklearn.model_selection import train_test_split\n",
    "X = moons_data[0]\n",
    "y = moons_data[1]\n",
    "X_train, X_test, y_train, y_test = train_test_split(\n",
    "    X, y, test_size=0.33, random_state=42)\n",
    "print(X_train)\n",
    "print(y_train)\n",
    "print(X_test)\n",
    "print(y_test)"
   ]
  },
  {
   "cell_type": "code",
   "execution_count": 24,
   "metadata": {},
   "outputs": [
    {
     "data": {
      "text/plain": [
       "GridSearchCV(cv=5, error_score='raise',\n",
       "       estimator=DecisionTreeClassifier(class_weight=None, criterion='gini', max_depth=None,\n",
       "            max_features=None, max_leaf_nodes=None,\n",
       "            min_impurity_decrease=0.0, min_impurity_split=None,\n",
       "            min_samples_leaf=1, min_samples_split=2,\n",
       "            min_weight_fraction_leaf=0.0, presort=False, random_state=None,\n",
       "            splitter='best'),\n",
       "       fit_params=None, iid=True, n_jobs=1,\n",
       "       param_grid={'max_depth': [1, 2, 4, 8, 16], 'max_leaf_nodes': [2, 4, 8, 16, 32, 64]},\n",
       "       pre_dispatch='2*n_jobs', refit=True, return_train_score='warn',\n",
       "       scoring=None, verbose=0)"
      ]
     },
     "execution_count": 24,
     "metadata": {},
     "output_type": "execute_result"
    }
   ],
   "source": [
    "from sklearn.tree import DecisionTreeClassifier\n",
    "from sklearn.model_selection import GridSearchCV\n",
    "tree_clf = DecisionTreeClassifier()\n",
    "params = {'max_depth':[1, 2, 4, 8, 16], 'max_leaf_nodes':[2, 4, 8, 16, 32, 64]}\n",
    "clf = GridSearchCV(tree_clf, params, cv=5)\n",
    "clf.fit(X_train, y_train)"
   ]
  },
  {
   "cell_type": "code",
   "execution_count": 25,
   "metadata": {},
   "outputs": [
    {
     "name": "stdout",
     "output_type": "stream",
     "text": [
      "{'max_depth': 16, 'max_leaf_nodes': 32}\n"
     ]
    }
   ],
   "source": [
    "print(clf.best_params_)"
   ]
  },
  {
   "cell_type": "code",
   "execution_count": 26,
   "metadata": {},
   "outputs": [
    {
     "name": "stdout",
     "output_type": "stream",
     "text": [
      "             precision    recall  f1-score   support\n",
      "\n",
      "          0       0.84      0.87      0.86      1688\n",
      "          1       0.86      0.83      0.85      1612\n",
      "\n",
      "avg / total       0.85      0.85      0.85      3300\n",
      "\n"
     ]
    }
   ],
   "source": [
    "from sklearn.metrics import classification_report\n",
    "y_pred = clf.predict(X_test)\n",
    "print(classification_report(y_test, y_pred))"
   ]
  },
  {
   "cell_type": "code",
   "execution_count": null,
   "metadata": {
    "collapsed": true
   },
   "outputs": [],
   "source": []
  }
 ],
 "metadata": {
  "kernelspec": {
   "display_name": "Python 3",
   "language": "python",
   "name": "python3"
  },
  "language_info": {
   "codemirror_mode": {
    "name": "ipython",
    "version": 3
   },
   "file_extension": ".py",
   "mimetype": "text/x-python",
   "name": "python",
   "nbconvert_exporter": "python",
   "pygments_lexer": "ipython3",
   "version": "3.6.3"
  }
 },
 "nbformat": 4,
 "nbformat_minor": 2
}
