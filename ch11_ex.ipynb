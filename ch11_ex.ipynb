{
 "cells": [
  {
   "cell_type": "code",
   "execution_count": 2,
   "metadata": {},
   "outputs": [
    {
     "data": {
      "text/plain": [
       "'\\n1. Is it okay to initialize all the weights to the same value as long as that value is selected randomly using He initialization?\\nNo, doing this will prevent the network from breaking symmetry. Each unit gets a signal\\nequal to the sum of inputs and outputs sigmoid(sum(inputs)). If all weights are zero then\\nall hidden units will get zero signal. So if all weights are the same, then all units\\nin the hidden layer will be the same too no matter the input. Simply, if all\\nunits start with the same wieght, then they will follow the same gradient which could severely\\nslow down learning if there are many local minima.\\n'"
      ]
     },
     "execution_count": 2,
     "metadata": {},
     "output_type": "execute_result"
    }
   ],
   "source": [
    "'''\n",
    "1. Is it okay to initialize all the weights to the same value as long as that value is selected randomly using He initialization?\n",
    "No, doing this will prevent the network from breaking symmetry. Each unit gets a signal\n",
    "equal to the sum of inputs and outputs sigmoid(sum(inputs)). If all weights are zero then\n",
    "all hidden units will get zero signal. So if all weights are the same, then all units\n",
    "in the hidden layer will be the same too no matter the input. Simply, if all\n",
    "units start with the same wieght, then they will follow the same gradient which could severely\n",
    "slow down learning if there are many local minima.\n",
    "'''\n"
   ]
  },
  {
   "cell_type": "code",
   "execution_count": 3,
   "metadata": {},
   "outputs": [
    {
     "data": {
      "text/plain": [
       "'\\n2. Is it okay to initialize the bias terms to 0?\\nYes, because symmetry breaking is done by initializing weights as random values.\\n'"
      ]
     },
     "execution_count": 3,
     "metadata": {},
     "output_type": "execute_result"
    }
   ],
   "source": [
    "'''\n",
    "2. Is it okay to initialize the bias terms to 0?\n",
    "Yes, because symmetry breaking is done by initializing weights as random values.\n",
    "'''"
   ]
  },
  {
   "cell_type": "code",
   "execution_count": 4,
   "metadata": {},
   "outputs": [
    {
     "data": {
      "text/plain": [
       "\"\\n3. Name three advantages of the ELU activation function over ReLU.\\n    a. ELU won't saturate (gradient = 0) when z < 0, so units won't die\\n    b. The function is smooth everywhere including z = 0 which helps gradient\\n    descent because it does not bounce as much lect and right of z=0.\\n    c. ELU takes on negative values when z < 0, which allows the unit to have an average output closer to 0. \\n    This helps alleviate the vanishing gradients problem, as discussed earlier.\\n\""
      ]
     },
     "execution_count": 4,
     "metadata": {},
     "output_type": "execute_result"
    }
   ],
   "source": [
    "'''\n",
    "3. Name three advantages of the ELU activation function over ReLU.\n",
    "    a. ELU won't saturate (gradient = 0) when z < 0, so units won't die\n",
    "    b. The function is smooth everywhere including z = 0 which helps gradient\n",
    "    descent because it does not bounce as much lect and right of z=0.\n",
    "    c. ELU takes on negative values when z < 0, which allows the unit to have an average output closer to 0. \n",
    "    This helps alleviate the vanishing gradients problem, as discussed earlier.\n",
    "'''"
   ]
  },
  {
   "cell_type": "code",
   "execution_count": 5,
   "metadata": {},
   "outputs": [
    {
     "data": {
      "text/plain": [
       "'\\n4. In which cases would you want to use each of the following activation functions: \\nELU, leaky ReLU (and its variants), ReLU, tanh, logistic, and softmax?\\nELU: Generally the best to use, but slower to compute than ReLU and its variants.\\nleaky ReLU: Use if you care a lot about runtime performance. Preferred over ReLU\\non large datasets, but might overfit on smaller datasets.\\nReLU: More simple than leaky ReLU, but in general leaky and ELU are better. ReLU\\nis able to output zero in some cases which can be useful.\\ntanh: Quicker convergence then logstic functions. \\nCan also be useful in the output layer if you need to output a number between –1 and 1, \\nbut nowadays it is not used much in hidden layers. \\nlogistic: Useful if you want to estimate a probability, but is rarely used in hidden layers.\\nsoftmax: Useful in output layer to output mulually exclusive classes (MNIST labels).\\n\\n'"
      ]
     },
     "execution_count": 5,
     "metadata": {},
     "output_type": "execute_result"
    }
   ],
   "source": [
    "'''\n",
    "4. In which cases would you want to use each of the following activation functions: \n",
    "ELU, leaky ReLU (and its variants), ReLU, tanh, logistic, and softmax?\n",
    "ELU: Generally the best to use, but slower to compute than ReLU and its variants.\n",
    "leaky ReLU: Use if you care a lot about runtime performance. Preferred over ReLU\n",
    "on large datasets, but might overfit on smaller datasets.\n",
    "ReLU: More simple than leaky ReLU, but in general leaky and ELU are better. ReLU\n",
    "is able to output zero in some cases which can be useful.\n",
    "tanh: Quicker convergence then logstic functions. \n",
    "Can also be useful in the output layer if you need to output a number between –1 and 1, \n",
    "but nowadays it is not used much in hidden layers. \n",
    "logistic: Useful if you want to estimate a probability, but is rarely used in hidden layers.\n",
    "softmax: Useful in output layer to output mulually exclusive classes (MNIST labels).\n",
    "\n",
    "'''"
   ]
  },
  {
   "cell_type": "code",
   "execution_count": 6,
   "metadata": {},
   "outputs": [
    {
     "data": {
      "text/plain": [
       "'\\n5. What may happen if you set the momentum hyperparameter too close to 1 (e.g., 0.99999) when using a MomentumOptimizer?\\nIf the momentum hyperparameter is too close to 1 then it will make the optimizer\\noscillate (overshoot a bit, then come back, overshoot again) many times before stablizing at the minimum.\\n'"
      ]
     },
     "execution_count": 6,
     "metadata": {},
     "output_type": "execute_result"
    }
   ],
   "source": [
    "'''\n",
    "5. What may happen if you set the momentum hyperparameter too close to 1 (e.g., 0.99999) when using a MomentumOptimizer?\n",
    "If the momentum hyperparameter is too close to 1 then it will make the optimizer\n",
    "oscillate (overshoot a bit, then come back, overshoot again) many times before stablizing at the minimum.\n",
    "'''"
   ]
  },
  {
   "cell_type": "code",
   "execution_count": 7,
   "metadata": {},
   "outputs": [
    {
     "data": {
      "text/plain": [
       "'\\n6. Name three ways you can produce a sparse model.\\n    a. Train the model as usual, then get rid of the tiny weights (set them to 0).\\n    b. Use ℓ1 regularization during training, which pushes the optimizer toward sparsity\\n    c. Apply Dual Averaging, often called Follow The Regularized Leader (FTRL). When used with ℓ1 regularization, this technique often leads to very sparse models. \\n    TensorFlow implements a variant of FTRL called FTRL-Proximal18 in the FTRLOptimizer class.\\n'"
      ]
     },
     "execution_count": 7,
     "metadata": {},
     "output_type": "execute_result"
    }
   ],
   "source": [
    "'''\n",
    "6. Name three ways you can produce a sparse model.\n",
    "    a. Train the model as usual, then get rid of the tiny weights (set them to 0).\n",
    "    b. Use ℓ1 regularization during training, which pushes the optimizer toward sparsity\n",
    "    c. Apply Dual Averaging, often called Follow The Regularized Leader (FTRL). When used with ℓ1 regularization, this technique often leads to very sparse models. \n",
    "    TensorFlow implements a variant of FTRL called FTRL-Proximal18 in the FTRLOptimizer class.\n",
    "'''"
   ]
  },
  {
   "cell_type": "code",
   "execution_count": 8,
   "metadata": {},
   "outputs": [
    {
     "data": {
      "text/plain": [
       "\"\\n7. Does dropout slow down training? Does it slow down inference (i.e., making predictions on new instances)?\\nYes, dropout tends to slow down convergence, but usually results in a better model. \\nNo, it does't slow down inference because dropout is only done during training.\\n\""
      ]
     },
     "execution_count": 8,
     "metadata": {},
     "output_type": "execute_result"
    }
   ],
   "source": [
    "'''\n",
    "7. Does dropout slow down training? Does it slow down inference (i.e., making predictions on new instances)?\n",
    "Yes, dropout tends to slow down convergence, but usually results in a better model. \n",
    "No, it does't slow down inference because dropout is only done during training.\n",
    "'''"
   ]
  },
  {
   "cell_type": "code",
   "execution_count": 9,
   "metadata": {},
   "outputs": [
    {
     "data": {
      "text/plain": [
       "'\\n8. Deep Learning.\\n\\n    a. Build a DNN with five hidden layers of 100 neurons each, He initialization, and the ELU activation function.\\n\\n    b. Using Adam optimization and early stopping, try training it on MNIST but only on digits 0 to 4, as we will use transfer learning for digits 5 to 9 in the next exercise. You will need a softmax output layer with five neurons, and as always make sure to save checkpoints at regular intervals and save the final model so you can reuse it later.\\n\\n    c. Tune the hyperparameters using cross-validation and see what precision you can achieve.\\n\\n    d. Now try adding Batch Normalization and compare the learning curves: is it converging faster than before? Does it produce a better model?\\n\\n    e. Is the model overfitting the training set? Try adding dropout to every layer and try again. Does it help?\\n'"
      ]
     },
     "execution_count": 9,
     "metadata": {},
     "output_type": "execute_result"
    }
   ],
   "source": [
    "'''\n",
    "8. Deep Learning.\n",
    "\n",
    "    a. Build a DNN with five hidden layers of 100 neurons each, He initialization, and the ELU activation function.\n",
    "\n",
    "    b. Using Adam optimization and early stopping, try training it on MNIST but only on digits 0 to 4, as we will use transfer learning for digits 5 to 9 in the next exercise. You will need a softmax output layer with five neurons, and as always make sure to save checkpoints at regular intervals and save the final model so you can reuse it later.\n",
    "\n",
    "    c. Tune the hyperparameters using cross-validation and see what precision you can achieve.\n",
    "\n",
    "    d. Now try adding Batch Normalization and compare the learning curves: is it converging faster than before? Does it produce a better model?\n",
    "\n",
    "    e. Is the model overfitting the training set? Try adding dropout to every layer and try again. Does it help?\n",
    "'''"
   ]
  },
  {
   "cell_type": "code",
   "execution_count": 10,
   "metadata": {
    "collapsed": true
   },
   "outputs": [],
   "source": [
    "import tensorflow as tf\n",
    "import numpy as np\n",
    "\n",
    "# to make this notebook's output stable across runs\n",
    "def reset_graph(seed=42):\n",
    "    tf.reset_default_graph()\n",
    "    tf.set_random_seed(seed)\n",
    "    np.random.seed(seed)"
   ]
  },
  {
   "cell_type": "code",
   "execution_count": 101,
   "metadata": {},
   "outputs": [
    {
     "name": "stdout",
     "output_type": "stream",
     "text": [
      "Extracting /tmp/data/train-images-idx3-ubyte.gz\n",
      "Extracting /tmp/data/train-labels-idx1-ubyte.gz\n",
      "Extracting /tmp/data/t10k-images-idx3-ubyte.gz\n",
      "Extracting /tmp/data/t10k-labels-idx1-ubyte.gz\n"
     ]
    }
   ],
   "source": [
    "reset_graph()\n",
    "\n",
    "from tensorflow.examples.tutorials.mnist import input_data\n",
    "from functools import partial\n",
    "\n",
    "mnist = input_data.read_data_sets(\"/tmp/data/\")\n",
    "\n",
    "n_hidden1 = 100\n",
    "n_hidden2 = 100\n",
    "n_hidden3 = 100\n",
    "n_hidden4 = 100\n",
    "n_hidden5 = 100\n",
    "n_outputs = 5\n",
    "\n",
    "def dnn(X, y, initializer=None, learning_rate=0.001, training=True):\n",
    "    with tf.name_scope(\"dnn\"):\n",
    "        with tf.name_scope(\"model\"):\n",
    "            batch_norm_layer = partial(tf.layers.batch_normalization,\n",
    "                           training=training, momentum=0.9)\n",
    "            he_init = tf.contrib.layers.variance_scaling_initializer()\n",
    "            hidden1 = tf.layers.dense(X, n_hidden1, name=\"hidden1\",\n",
    "                         kernel_initializer=he_init)\n",
    "            bn1 = batch_norm_layer(hidden1)\n",
    "            bn1_act = tf.nn.elu(bn1)\n",
    "            hidden2 = tf.layers.dense(bn1_act, n_hidden2, name=\"hidden2\",\n",
    "                         kernel_initializer=he_init)\n",
    "            bn2 = batch_norm_layer(hidden2)\n",
    "            bn2_act = tf.nn.elu(bn2)\n",
    "            hidden3 = tf.layers.dense(bn2_act, n_hidden3, name=\"hidden3\",\n",
    "                         kernel_initializer=he_init)\n",
    "            bn3 = batch_norm_layer(hidden3)\n",
    "            bn3_act = tf.nn.elu(bn3)\n",
    "            hidden4 = tf.layers.dense(bn3_act, n_hidden4, name=\"hidden4\",\n",
    "                         kernel_initializer=he_init)\n",
    "            bn4 = batch_norm_layer(hidden4)\n",
    "            bn4_act = tf.nn.elu(bn4)\n",
    "            hidden5 = tf.layers.dense(bn4_act, n_hidden5, name=\"hidden5\",\n",
    "                         kernel_initializer=he_init)\n",
    "            bn5 = batch_norm_layer(hidden5)\n",
    "            bn5_act = tf.nn.elu(bn5)\n",
    "            \n",
    "            logits_before_bn = tf.layers.dense(bn5_act, n_outputs, name=\"outputs\")\n",
    "            logits = batch_norm_layer(logits_before_bn, name=\"bn_outputs\")\n",
    "            \n",
    "            Y_proba = tf.nn.softmax(logits, name=\"Y_proba\")\n",
    "            \n",
    "        with tf.name_scope(\"loss\"):\n",
    "            xentropy = tf.nn.sparse_softmax_cross_entropy_with_logits(labels=y,\n",
    "                                                              logits=logits)\n",
    "            loss = tf.reduce_mean(xentropy, name=\"loss\")\n",
    "        with tf.name_scope(\"train\"):\n",
    "            optimizer = tf.train.AdamOptimizer(learning_rate)\n",
    "            training_op = optimizer.minimize(loss)\n",
    "        with tf.name_scope(\"eval\"):\n",
    "            correct = tf.nn.in_top_k(logits, y, 1)\n",
    "            accuracy = tf.reduce_mean(tf.cast(correct, tf.float32), name=\"accuracy\")\n",
    "        with tf.name_scope(\"init\"):\n",
    "            init = tf.global_variables_initializer()\n",
    "        with tf.name_scope(\"save\"):\n",
    "            saver = tf.train.Saver()\n",
    "    return accuracy, training_op, init, saver"
   ]
  },
  {
   "cell_type": "code",
   "execution_count": 102,
   "metadata": {
    "collapsed": true
   },
   "outputs": [],
   "source": [
    "from datetime import datetime\n",
    "\n",
    "def log_dir(prefix=\"\"):\n",
    "    now = datetime.utcnow().strftime(\"%Y%m%d%H%M%S\")\n",
    "    root_logdir = \"tf_logs\"\n",
    "    if prefix:\n",
    "        prefix += \"-\"\n",
    "    name = prefix + \"run-\" + now\n",
    "    return \"{}/{}/\".format(root_logdir, name)"
   ]
  },
  {
   "cell_type": "code",
   "execution_count": 103,
   "metadata": {},
   "outputs": [],
   "source": [
    "logdir = log_dir(\"dnn\")\n",
    "\n",
    "X = tf.placeholder(tf.float32, shape=(None, 784), name=\"X\")\n",
    "y = tf.placeholder(tf.int64, shape=(None), name=\"y\")\n",
    "\n",
    "training = tf.placeholder_with_default(False, shape=(), name='training')\n",
    "\n",
    "accuracy, training_op, init, saver = dnn(X, y)"
   ]
  },
  {
   "cell_type": "code",
   "execution_count": 104,
   "metadata": {},
   "outputs": [
    {
     "name": "stdout",
     "output_type": "stream",
     "text": [
      "0 Train accuracy: 0.96 Val accuracy: 0.988272\n",
      "Epoch: 0 \tAcc: 0.988272\n",
      "1 Train accuracy: 1.0 Val accuracy: 0.987881\n",
      "2 Train accuracy: 1.0 Val accuracy: 0.98749\n",
      "3 Train accuracy: 1.0 Val accuracy: 0.988663\n",
      "4 Train accuracy: 1.0 Val accuracy: 0.989836\n",
      "5 Train accuracy: 1.0 Val accuracy: 0.99179\n",
      "Epoch: 5 \tAcc: 0.99179\n",
      "6 Train accuracy: 1.0 Val accuracy: 0.991009\n",
      "7 Train accuracy: 1.0 Val accuracy: 0.992963\n",
      "8 Train accuracy: 1.0 Val accuracy: 0.990227\n",
      "9 Train accuracy: 1.0 Val accuracy: 0.989836\n",
      "10 Train accuracy: 1.0 Val accuracy: 0.988663\n",
      "Epoch: 10 \tAcc: 0.988663\n",
      "restoring the best model\n",
      "INFO:tensorflow:Restoring parameters from ./my_ch11_dnn_model\n",
      "Test accuracy: 0.991633\n"
     ]
    }
   ],
   "source": [
    "import os\n",
    "n_epochs = 151\n",
    "batch_size = 50\n",
    "\n",
    "checkpoint_path = \"/tmp/my_ch11_dnn_model.ckpt\"\n",
    "checkpoint_epoch_path = checkpoint_path + \".epoch\"\n",
    "final_model_path = \"./my_ch11_dnn_model\"\n",
    "\n",
    "acc_best = 0\n",
    "\n",
    "extra_update_ops = tf.get_collection(tf.GraphKeys.UPDATE_OPS)\n",
    "\n",
    "with tf.Session() as sess:\n",
    "    if os.path.isfile(checkpoint_epoch_path):\n",
    "        # if the checkpoint file exists, restore the model and load the epoch number\n",
    "        with open(checkpoint_epoch_path, \"rb\") as f:\n",
    "            start_epoch = int(f.read())\n",
    "        print(\"Training was interrupted. Continuing at epoch\", start_epoch)\n",
    "        saver.restore(sess, checkpoint_path)\n",
    "    else:\n",
    "        start_epoch = 0\n",
    "        sess.run(init)\n",
    "        \n",
    "    # get training samples where y < 5\n",
    "    X_train, y_train = mnist.train.next_batch(mnist.train.num_examples)\n",
    "    clean_indices = np.where(y_train < 5)\n",
    "    X_train_clean = X_train[clean_indices]\n",
    "    y_train_clean = y_train[clean_indices]\n",
    "    \n",
    "    # get validation samples where y < 5\n",
    "    val_clean_indices = np.where(mnist.validation.labels < 5)\n",
    "    X_val_clean = mnist.validation.images[val_clean_indices]\n",
    "    y_val_clean = mnist.validation.labels[val_clean_indices]\n",
    "    \n",
    "    # get test samples where y < 5\n",
    "    test_clean_indices = np.where(mnist.test.labels < 5)\n",
    "    X_test_clean = mnist.test.images[test_clean_indices]\n",
    "    y_test_clean = mnist.test.labels[test_clean_indices]\n",
    "    \n",
    "    def next_batch(batch_size):\n",
    "        random = np.random.choice(len(X_train_clean), batch_size)\n",
    "        return X_train_clean[random], y_train_clean[random]\n",
    "    \n",
    "    for epoch in range(start_epoch, n_epochs):\n",
    "        for iteration in range(mnist.train.num_examples // batch_size):\n",
    "            X_batch, y_batch = next_batch(batch_size)\n",
    "            sess.run([training_op, extra_update_ops],\n",
    "                     feed_dict={training: True, X: X_batch, y: y_batch})\n",
    "        #loss_val, summary_str = sess.run([loss, loss_summary], feed_dict={X: X_test_enhanced, y: y_test})\n",
    "        acc_train = accuracy.eval(feed_dict={X: X_batch, y: y_batch})\n",
    "        acc_val = accuracy.eval(feed_dict={X: X_val_clean,\n",
    "                                           y: y_val_clean})\n",
    "        print(epoch, \"Train accuracy:\", acc_train, \"Val accuracy:\", acc_val)\n",
    "        #file_writer.add_summary(summary_str, epoch)\n",
    "        if epoch % 5 == 0:\n",
    "            print(\"Epoch:\", epoch, \"\\tAcc:\", acc_val)\n",
    "            saver.save(sess, checkpoint_path)\n",
    "            if acc_val > acc_best:\n",
    "                acc_best = acc_val\n",
    "                saver.save(sess, final_model_path)\n",
    "            # early stopping\n",
    "            else:\n",
    "                break\n",
    "            with open(checkpoint_epoch_path, \"wb\") as f:\n",
    "                f.write(b\"%d\" % (epoch + 1))\n",
    "                \n",
    "# restore best model\n",
    "with tf.Session() as sess:\n",
    "    print('restoring the best model')\n",
    "    saver.restore(sess, final_model_path)\n",
    "    acc_test_val = accuracy.eval(feed_dict={X: X_test_clean, y: y_test_clean, training: False})\n",
    "    print(\"Test accuracy:\", acc_test_val)\n",
    "\n",
    "os.remove(checkpoint_epoch_path)"
   ]
  },
  {
   "cell_type": "code",
   "execution_count": 105,
   "metadata": {},
   "outputs": [
    {
     "data": {
      "text/plain": [
       "'\\n9. Transfer learning.\\n\\n    a. Create a new DNN that reuses all the pretrained hidden layers of the previous model, freezes them, and replaces the softmax output layer with a new one.\\n\\n    b. Train this new DNN on digits 5 to 9, using only 100 images per digit, and time how long it takes. Despite this small number of examples, can you achieve high precision?\\n\\n    c. Try caching the frozen layers, and train the model again: how much faster is it now?\\n\\n    d. Try again reusing just four hidden layers instead of five. Can you achieve a higher precision?\\n\\n    e. Now unfreeze the top two hidden layers and continue training: can you get the model to perform even better?\\n'"
      ]
     },
     "execution_count": 105,
     "metadata": {},
     "output_type": "execute_result"
    }
   ],
   "source": [
    "'''\n",
    "9. Transfer learning.\n",
    "\n",
    "    a. Create a new DNN that reuses all the pretrained hidden layers of the previous model, freezes them, and replaces the softmax output layer with a new one.\n",
    "\n",
    "    b. Train this new DNN on digits 5 to 9, using only 100 images per digit, and time how long it takes. Despite this small number of examples, can you achieve high precision?\n",
    "\n",
    "    c. Try caching the frozen layers, and train the model again: how much faster is it now?\n",
    "\n",
    "    d. Try again reusing just four hidden layers instead of five. Can you achieve a higher precision?\n",
    "\n",
    "    e. Now unfreeze the top two hidden layers and continue training: can you get the model to perform even better?\n",
    "'''"
   ]
  },
  {
   "cell_type": "code",
   "execution_count": 108,
   "metadata": {},
   "outputs": [
    {
     "name": "stdout",
     "output_type": "stream",
     "text": [
      "['dnn/model/bn_outputs/moments/mean/reduction_indices', 'dnn/model/bn_outputs/moments/mean', 'dnn/model/bn_outputs/moments/StopGradient', 'dnn/model/bn_outputs/moments/SquaredDifference', 'dnn/model/bn_outputs/moments/variance/reduction_indices', 'dnn/model/bn_outputs/moments/variance', 'dnn/model/bn_outputs/moments/Squeeze', 'dnn/model/bn_outputs/moments/Squeeze_1', 'dnn/model/bn_outputs/AssignMovingAvg/decay', 'dnn/model/bn_outputs/AssignMovingAvg/sub', 'dnn/model/bn_outputs/AssignMovingAvg/mul', 'dnn/model/bn_outputs/AssignMovingAvg', 'dnn/model/bn_outputs/AssignMovingAvg_1/decay', 'dnn/model/bn_outputs/AssignMovingAvg_1/sub', 'dnn/model/bn_outputs/AssignMovingAvg_1/mul', 'dnn/model/bn_outputs/AssignMovingAvg_1', 'dnn/model/bn_outputs/batchnorm/add/y', 'dnn/model/bn_outputs/batchnorm/add', 'dnn/model/bn_outputs/batchnorm/Rsqrt', 'dnn/model/bn_outputs/batchnorm/mul', 'dnn/model/bn_outputs/batchnorm/mul_1', 'dnn/model/bn_outputs/batchnorm/mul_2', 'dnn/model/bn_outputs/batchnorm/sub', 'dnn/model/bn_outputs/batchnorm/add_1', 'dnn/train/gradients/dnn/model/bn_outputs/batchnorm/add_1_grad/Shape', 'dnn/train/gradients/dnn/model/bn_outputs/batchnorm/add_1_grad/Shape_1', 'dnn/train/gradients/dnn/model/bn_outputs/batchnorm/add_1_grad/BroadcastGradientArgs', 'dnn/train/gradients/dnn/model/bn_outputs/batchnorm/add_1_grad/Sum', 'dnn/train/gradients/dnn/model/bn_outputs/batchnorm/add_1_grad/Reshape', 'dnn/train/gradients/dnn/model/bn_outputs/batchnorm/add_1_grad/Sum_1', 'dnn/train/gradients/dnn/model/bn_outputs/batchnorm/add_1_grad/Reshape_1', 'dnn/train/gradients/dnn/model/bn_outputs/batchnorm/add_1_grad/tuple/group_deps', 'dnn/train/gradients/dnn/model/bn_outputs/batchnorm/add_1_grad/tuple/control_dependency', 'dnn/train/gradients/dnn/model/bn_outputs/batchnorm/add_1_grad/tuple/control_dependency_1', 'dnn/train/gradients/dnn/model/bn_outputs/batchnorm/mul_1_grad/Shape', 'dnn/train/gradients/dnn/model/bn_outputs/batchnorm/mul_1_grad/Shape_1', 'dnn/train/gradients/dnn/model/bn_outputs/batchnorm/mul_1_grad/BroadcastGradientArgs', 'dnn/train/gradients/dnn/model/bn_outputs/batchnorm/mul_1_grad/Mul', 'dnn/train/gradients/dnn/model/bn_outputs/batchnorm/mul_1_grad/Sum', 'dnn/train/gradients/dnn/model/bn_outputs/batchnorm/mul_1_grad/Reshape', 'dnn/train/gradients/dnn/model/bn_outputs/batchnorm/mul_1_grad/Mul_1', 'dnn/train/gradients/dnn/model/bn_outputs/batchnorm/mul_1_grad/Sum_1', 'dnn/train/gradients/dnn/model/bn_outputs/batchnorm/mul_1_grad/Reshape_1', 'dnn/train/gradients/dnn/model/bn_outputs/batchnorm/mul_1_grad/tuple/group_deps', 'dnn/train/gradients/dnn/model/bn_outputs/batchnorm/mul_1_grad/tuple/control_dependency', 'dnn/train/gradients/dnn/model/bn_outputs/batchnorm/mul_1_grad/tuple/control_dependency_1', 'dnn/train/gradients/dnn/model/bn_outputs/batchnorm/sub_grad/Neg', 'dnn/train/gradients/dnn/model/bn_outputs/batchnorm/sub_grad/tuple/group_deps', 'dnn/train/gradients/dnn/model/bn_outputs/batchnorm/sub_grad/tuple/control_dependency', 'dnn/train/gradients/dnn/model/bn_outputs/batchnorm/sub_grad/tuple/control_dependency_1', 'dnn/train/gradients/dnn/model/bn_outputs/batchnorm/mul_2_grad/Mul', 'dnn/train/gradients/dnn/model/bn_outputs/batchnorm/mul_2_grad/Mul_1', 'dnn/train/gradients/dnn/model/bn_outputs/batchnorm/mul_2_grad/tuple/group_deps', 'dnn/train/gradients/dnn/model/bn_outputs/batchnorm/mul_2_grad/tuple/control_dependency', 'dnn/train/gradients/dnn/model/bn_outputs/batchnorm/mul_2_grad/tuple/control_dependency_1', 'dnn/train/gradients/dnn/model/bn_outputs/moments/Squeeze_grad/Shape', 'dnn/train/gradients/dnn/model/bn_outputs/moments/Squeeze_grad/Reshape', 'dnn/train/gradients/dnn/model/bn_outputs/batchnorm/mul_grad/Mul', 'dnn/train/gradients/dnn/model/bn_outputs/batchnorm/mul_grad/Mul_1', 'dnn/train/gradients/dnn/model/bn_outputs/batchnorm/mul_grad/tuple/group_deps', 'dnn/train/gradients/dnn/model/bn_outputs/batchnorm/mul_grad/tuple/control_dependency', 'dnn/train/gradients/dnn/model/bn_outputs/batchnorm/mul_grad/tuple/control_dependency_1', 'dnn/train/gradients/dnn/model/bn_outputs/batchnorm/Rsqrt_grad/RsqrtGrad', 'dnn/train/gradients/dnn/model/bn_outputs/batchnorm/add_grad/Shape', 'dnn/train/gradients/dnn/model/bn_outputs/batchnorm/add_grad/Shape_1', 'dnn/train/gradients/dnn/model/bn_outputs/batchnorm/add_grad/BroadcastGradientArgs', 'dnn/train/gradients/dnn/model/bn_outputs/batchnorm/add_grad/Sum', 'dnn/train/gradients/dnn/model/bn_outputs/batchnorm/add_grad/Reshape', 'dnn/train/gradients/dnn/model/bn_outputs/batchnorm/add_grad/Sum_1', 'dnn/train/gradients/dnn/model/bn_outputs/batchnorm/add_grad/Reshape_1', 'dnn/train/gradients/dnn/model/bn_outputs/batchnorm/add_grad/tuple/group_deps', 'dnn/train/gradients/dnn/model/bn_outputs/batchnorm/add_grad/tuple/control_dependency', 'dnn/train/gradients/dnn/model/bn_outputs/batchnorm/add_grad/tuple/control_dependency_1', 'dnn/train/gradients/dnn/model/bn_outputs/moments/Squeeze_1_grad/Shape', 'dnn/train/gradients/dnn/model/bn_outputs/moments/Squeeze_1_grad/Reshape', 'dnn/train/gradients/dnn/model/bn_outputs/moments/variance_grad/Shape', 'dnn/train/gradients/dnn/model/bn_outputs/moments/variance_grad/Size', 'dnn/train/gradients/dnn/model/bn_outputs/moments/variance_grad/add', 'dnn/train/gradients/dnn/model/bn_outputs/moments/variance_grad/mod', 'dnn/train/gradients/dnn/model/bn_outputs/moments/variance_grad/Shape_1', 'dnn/train/gradients/dnn/model/bn_outputs/moments/variance_grad/range/start', 'dnn/train/gradients/dnn/model/bn_outputs/moments/variance_grad/range/delta', 'dnn/train/gradients/dnn/model/bn_outputs/moments/variance_grad/range', 'dnn/train/gradients/dnn/model/bn_outputs/moments/variance_grad/Fill/value', 'dnn/train/gradients/dnn/model/bn_outputs/moments/variance_grad/Fill', 'dnn/train/gradients/dnn/model/bn_outputs/moments/variance_grad/DynamicStitch', 'dnn/train/gradients/dnn/model/bn_outputs/moments/variance_grad/Maximum/y', 'dnn/train/gradients/dnn/model/bn_outputs/moments/variance_grad/Maximum', 'dnn/train/gradients/dnn/model/bn_outputs/moments/variance_grad/floordiv', 'dnn/train/gradients/dnn/model/bn_outputs/moments/variance_grad/Reshape', 'dnn/train/gradients/dnn/model/bn_outputs/moments/variance_grad/Tile', 'dnn/train/gradients/dnn/model/bn_outputs/moments/variance_grad/Shape_2', 'dnn/train/gradients/dnn/model/bn_outputs/moments/variance_grad/Shape_3', 'dnn/train/gradients/dnn/model/bn_outputs/moments/variance_grad/Const', 'dnn/train/gradients/dnn/model/bn_outputs/moments/variance_grad/Prod', 'dnn/train/gradients/dnn/model/bn_outputs/moments/variance_grad/Const_1', 'dnn/train/gradients/dnn/model/bn_outputs/moments/variance_grad/Prod_1', 'dnn/train/gradients/dnn/model/bn_outputs/moments/variance_grad/Maximum_1/y', 'dnn/train/gradients/dnn/model/bn_outputs/moments/variance_grad/Maximum_1', 'dnn/train/gradients/dnn/model/bn_outputs/moments/variance_grad/floordiv_1', 'dnn/train/gradients/dnn/model/bn_outputs/moments/variance_grad/Cast', 'dnn/train/gradients/dnn/model/bn_outputs/moments/variance_grad/truediv', 'dnn/train/gradients/dnn/model/bn_outputs/moments/SquaredDifference_grad/Shape', 'dnn/train/gradients/dnn/model/bn_outputs/moments/SquaredDifference_grad/Shape_1', 'dnn/train/gradients/dnn/model/bn_outputs/moments/SquaredDifference_grad/BroadcastGradientArgs', 'dnn/train/gradients/dnn/model/bn_outputs/moments/SquaredDifference_grad/scalar', 'dnn/train/gradients/dnn/model/bn_outputs/moments/SquaredDifference_grad/mul', 'dnn/train/gradients/dnn/model/bn_outputs/moments/SquaredDifference_grad/sub', 'dnn/train/gradients/dnn/model/bn_outputs/moments/SquaredDifference_grad/mul_1', 'dnn/train/gradients/dnn/model/bn_outputs/moments/SquaredDifference_grad/Sum', 'dnn/train/gradients/dnn/model/bn_outputs/moments/SquaredDifference_grad/Reshape', 'dnn/train/gradients/dnn/model/bn_outputs/moments/SquaredDifference_grad/Sum_1', 'dnn/train/gradients/dnn/model/bn_outputs/moments/SquaredDifference_grad/Reshape_1', 'dnn/train/gradients/dnn/model/bn_outputs/moments/SquaredDifference_grad/Neg', 'dnn/train/gradients/dnn/model/bn_outputs/moments/SquaredDifference_grad/tuple/group_deps', 'dnn/train/gradients/dnn/model/bn_outputs/moments/SquaredDifference_grad/tuple/control_dependency', 'dnn/train/gradients/dnn/model/bn_outputs/moments/SquaredDifference_grad/tuple/control_dependency_1', 'dnn/train/gradients/dnn/model/bn_outputs/moments/mean_grad/Shape', 'dnn/train/gradients/dnn/model/bn_outputs/moments/mean_grad/Size', 'dnn/train/gradients/dnn/model/bn_outputs/moments/mean_grad/add', 'dnn/train/gradients/dnn/model/bn_outputs/moments/mean_grad/mod', 'dnn/train/gradients/dnn/model/bn_outputs/moments/mean_grad/Shape_1', 'dnn/train/gradients/dnn/model/bn_outputs/moments/mean_grad/range/start', 'dnn/train/gradients/dnn/model/bn_outputs/moments/mean_grad/range/delta', 'dnn/train/gradients/dnn/model/bn_outputs/moments/mean_grad/range', 'dnn/train/gradients/dnn/model/bn_outputs/moments/mean_grad/Fill/value', 'dnn/train/gradients/dnn/model/bn_outputs/moments/mean_grad/Fill', 'dnn/train/gradients/dnn/model/bn_outputs/moments/mean_grad/DynamicStitch', 'dnn/train/gradients/dnn/model/bn_outputs/moments/mean_grad/Maximum/y', 'dnn/train/gradients/dnn/model/bn_outputs/moments/mean_grad/Maximum', 'dnn/train/gradients/dnn/model/bn_outputs/moments/mean_grad/floordiv', 'dnn/train/gradients/dnn/model/bn_outputs/moments/mean_grad/Reshape', 'dnn/train/gradients/dnn/model/bn_outputs/moments/mean_grad/Tile', 'dnn/train/gradients/dnn/model/bn_outputs/moments/mean_grad/Shape_2', 'dnn/train/gradients/dnn/model/bn_outputs/moments/mean_grad/Shape_3', 'dnn/train/gradients/dnn/model/bn_outputs/moments/mean_grad/Const', 'dnn/train/gradients/dnn/model/bn_outputs/moments/mean_grad/Prod', 'dnn/train/gradients/dnn/model/bn_outputs/moments/mean_grad/Const_1', 'dnn/train/gradients/dnn/model/bn_outputs/moments/mean_grad/Prod_1', 'dnn/train/gradients/dnn/model/bn_outputs/moments/mean_grad/Maximum_1/y', 'dnn/train/gradients/dnn/model/bn_outputs/moments/mean_grad/Maximum_1', 'dnn/train/gradients/dnn/model/bn_outputs/moments/mean_grad/floordiv_1', 'dnn/train/gradients/dnn/model/bn_outputs/moments/mean_grad/Cast', 'dnn/train/gradients/dnn/model/bn_outputs/moments/mean_grad/truediv']\n"
     ]
    },
    {
     "ename": "KeyError",
     "evalue": "\"The name 'dnn/model/bn_outputs:0' refers to a Tensor which does not exist. The operation, 'dnn/model/bn_outputs', does not exist in the graph.\"",
     "output_type": "error",
     "traceback": [
      "\u001b[1;31m---------------------------------------------------------------------------\u001b[0m",
      "\u001b[1;31mKeyError\u001b[0m                                  Traceback (most recent call last)",
      "\u001b[1;32m<ipython-input-108-4932d8372f13>\u001b[0m in \u001b[0;36m<module>\u001b[1;34m()\u001b[0m\n\u001b[0;32m     10\u001b[0m \u001b[0mY_proba\u001b[0m \u001b[1;33m=\u001b[0m \u001b[0mtf\u001b[0m\u001b[1;33m.\u001b[0m\u001b[0mget_default_graph\u001b[0m\u001b[1;33m(\u001b[0m\u001b[1;33m)\u001b[0m\u001b[1;33m.\u001b[0m\u001b[0mget_tensor_by_name\u001b[0m\u001b[1;33m(\u001b[0m\u001b[1;34m\"dnn/model/Y_proba:0\"\u001b[0m\u001b[1;33m)\u001b[0m\u001b[1;33m\u001b[0m\u001b[0m\n\u001b[0;32m     11\u001b[0m \u001b[1;31m#logits = Y_proba.op.inputs[0]\u001b[0m\u001b[1;33m\u001b[0m\u001b[1;33m\u001b[0m\u001b[0m\n\u001b[1;32m---> 12\u001b[1;33m \u001b[0mlogits\u001b[0m \u001b[1;33m=\u001b[0m \u001b[0mtf\u001b[0m\u001b[1;33m.\u001b[0m\u001b[0mget_default_graph\u001b[0m\u001b[1;33m(\u001b[0m\u001b[1;33m)\u001b[0m\u001b[1;33m.\u001b[0m\u001b[0mget_tensor_by_name\u001b[0m\u001b[1;33m(\u001b[0m\u001b[1;34m\"dnn/model/bn_outputs:0\"\u001b[0m\u001b[1;33m)\u001b[0m\u001b[1;33m\u001b[0m\u001b[0m\n\u001b[0m\u001b[0;32m     13\u001b[0m \u001b[0maccuracy\u001b[0m \u001b[1;33m=\u001b[0m \u001b[0mtf\u001b[0m\u001b[1;33m.\u001b[0m\u001b[0mget_default_graph\u001b[0m\u001b[1;33m(\u001b[0m\u001b[1;33m)\u001b[0m\u001b[1;33m.\u001b[0m\u001b[0mget_tensor_by_name\u001b[0m\u001b[1;33m(\u001b[0m\u001b[1;34m\"dnn/eval/accuracy:0\"\u001b[0m\u001b[1;33m)\u001b[0m\u001b[1;33m\u001b[0m\u001b[0m\n\u001b[0;32m     14\u001b[0m \u001b[1;33m\u001b[0m\u001b[0m\n",
      "\u001b[1;32m~\\Anaconda3\\lib\\site-packages\\tensorflow\\python\\framework\\ops.py\u001b[0m in \u001b[0;36mget_tensor_by_name\u001b[1;34m(self, name)\u001b[0m\n\u001b[0;32m   3787\u001b[0m       raise TypeError(\"Tensor names are strings (or similar), not %s.\" %\n\u001b[0;32m   3788\u001b[0m                       type(name).__name__)\n\u001b[1;32m-> 3789\u001b[1;33m     \u001b[1;32mreturn\u001b[0m \u001b[0mself\u001b[0m\u001b[1;33m.\u001b[0m\u001b[0mas_graph_element\u001b[0m\u001b[1;33m(\u001b[0m\u001b[0mname\u001b[0m\u001b[1;33m,\u001b[0m \u001b[0mallow_tensor\u001b[0m\u001b[1;33m=\u001b[0m\u001b[1;32mTrue\u001b[0m\u001b[1;33m,\u001b[0m \u001b[0mallow_operation\u001b[0m\u001b[1;33m=\u001b[0m\u001b[1;32mFalse\u001b[0m\u001b[1;33m)\u001b[0m\u001b[1;33m\u001b[0m\u001b[0m\n\u001b[0m\u001b[0;32m   3790\u001b[0m \u001b[1;33m\u001b[0m\u001b[0m\n\u001b[0;32m   3791\u001b[0m   \u001b[1;32mdef\u001b[0m \u001b[0m_get_tensor_by_tf_output\u001b[0m\u001b[1;33m(\u001b[0m\u001b[0mself\u001b[0m\u001b[1;33m,\u001b[0m \u001b[0mtf_output\u001b[0m\u001b[1;33m)\u001b[0m\u001b[1;33m:\u001b[0m\u001b[1;33m\u001b[0m\u001b[0m\n",
      "\u001b[1;32m~\\Anaconda3\\lib\\site-packages\\tensorflow\\python\\framework\\ops.py\u001b[0m in \u001b[0;36mas_graph_element\u001b[1;34m(self, obj, allow_tensor, allow_operation)\u001b[0m\n\u001b[0;32m   3611\u001b[0m \u001b[1;33m\u001b[0m\u001b[0m\n\u001b[0;32m   3612\u001b[0m     \u001b[1;32mwith\u001b[0m \u001b[0mself\u001b[0m\u001b[1;33m.\u001b[0m\u001b[0m_lock\u001b[0m\u001b[1;33m:\u001b[0m\u001b[1;33m\u001b[0m\u001b[0m\n\u001b[1;32m-> 3613\u001b[1;33m       \u001b[1;32mreturn\u001b[0m \u001b[0mself\u001b[0m\u001b[1;33m.\u001b[0m\u001b[0m_as_graph_element_locked\u001b[0m\u001b[1;33m(\u001b[0m\u001b[0mobj\u001b[0m\u001b[1;33m,\u001b[0m \u001b[0mallow_tensor\u001b[0m\u001b[1;33m,\u001b[0m \u001b[0mallow_operation\u001b[0m\u001b[1;33m)\u001b[0m\u001b[1;33m\u001b[0m\u001b[0m\n\u001b[0m\u001b[0;32m   3614\u001b[0m \u001b[1;33m\u001b[0m\u001b[0m\n\u001b[0;32m   3615\u001b[0m   \u001b[1;32mdef\u001b[0m \u001b[0m_as_graph_element_locked\u001b[0m\u001b[1;33m(\u001b[0m\u001b[0mself\u001b[0m\u001b[1;33m,\u001b[0m \u001b[0mobj\u001b[0m\u001b[1;33m,\u001b[0m \u001b[0mallow_tensor\u001b[0m\u001b[1;33m,\u001b[0m \u001b[0mallow_operation\u001b[0m\u001b[1;33m)\u001b[0m\u001b[1;33m:\u001b[0m\u001b[1;33m\u001b[0m\u001b[0m\n",
      "\u001b[1;32m~\\Anaconda3\\lib\\site-packages\\tensorflow\\python\\framework\\ops.py\u001b[0m in \u001b[0;36m_as_graph_element_locked\u001b[1;34m(self, obj, allow_tensor, allow_operation)\u001b[0m\n\u001b[0;32m   3653\u001b[0m           raise KeyError(\"The name %s refers to a Tensor which does not \"\n\u001b[0;32m   3654\u001b[0m                          \u001b[1;34m\"exist. The operation, %s, does not exist in the \"\u001b[0m\u001b[1;33m\u001b[0m\u001b[0m\n\u001b[1;32m-> 3655\u001b[1;33m                          \"graph.\" % (repr(name), repr(op_name)))\n\u001b[0m\u001b[0;32m   3656\u001b[0m         \u001b[1;32mtry\u001b[0m\u001b[1;33m:\u001b[0m\u001b[1;33m\u001b[0m\u001b[0m\n\u001b[0;32m   3657\u001b[0m           \u001b[1;32mreturn\u001b[0m \u001b[0mop\u001b[0m\u001b[1;33m.\u001b[0m\u001b[0moutputs\u001b[0m\u001b[1;33m[\u001b[0m\u001b[0mout_n\u001b[0m\u001b[1;33m]\u001b[0m\u001b[1;33m\u001b[0m\u001b[0m\n",
      "\u001b[1;31mKeyError\u001b[0m: \"The name 'dnn/model/bn_outputs:0' refers to a Tensor which does not exist. The operation, 'dnn/model/bn_outputs', does not exist in the graph.\""
     ]
    }
   ],
   "source": [
    "reset_graph()\n",
    "\n",
    "restore_saver = tf.train.import_meta_graph(\"./my_ch11_dnn_model.meta\")\n",
    "graph = tf.get_default_graph()\n",
    "#print([op.name for op in sess.graph.get_operations() if 'bn_outputs' in op.name and 'read' in op.name])\n",
    "print([n.name for n in tf.get_default_graph().as_graph_def().node if 'bn_outputs' in n.name and 'model' in n.name])\n",
    "X = tf.get_default_graph().get_tensor_by_name(\"X:0\")\n",
    "y = tf.get_default_graph().get_tensor_by_name(\"y:0\")\n",
    "loss = tf.get_default_graph().get_tensor_by_name(\"dnn/loss/loss:0\")\n",
    "Y_proba = tf.get_default_graph().get_tensor_by_name(\"dnn/model/Y_proba:0\")\n",
    "logits = Y_proba.op.inputs[0]\n",
    "#logits = tf.get_default_graph().get_tensor_by_name(\"dnn/model/bn_outputs:0\")\n",
    "accuracy = tf.get_default_graph().get_tensor_by_name(\"dnn/eval/accuracy:0\")\n",
    "\n",
    "learning_rate = 0.01\n",
    "\n",
    "output_layer_vars = tf.get_collection(tf.GraphKeys.TRAINABLE_VARIABLES, scope=\"bn_outputs\")\n",
    "optimizer = tf.train.AdamOptimizer(learning_rate, name=\"Adam2\")\n",
    "training_op = optimizer.minimize(loss, var_list=output_layer_vars)\n",
    "    \n",
    "# eval\n",
    "correct = tf.nn.in_top_k(logits, y, 1)\n",
    "accuracy = tf.reduce_mean(tf.cast(correct, tf.float32), name=\"accuracy\")\n",
    "\n",
    "init = tf.global_variables_initializer()\n",
    "hidden_frozen_saver = tf.train.Saver()"
   ]
  },
  {
   "cell_type": "code",
   "execution_count": null,
   "metadata": {
    "collapsed": true
   },
   "outputs": [],
   "source": []
  }
 ],
 "metadata": {
  "kernelspec": {
   "display_name": "Python 3",
   "language": "python",
   "name": "python3"
  },
  "language_info": {
   "codemirror_mode": {
    "name": "ipython",
    "version": 3
   },
   "file_extension": ".py",
   "mimetype": "text/x-python",
   "name": "python",
   "nbconvert_exporter": "python",
   "pygments_lexer": "ipython3",
   "version": "3.6.3"
  }
 },
 "nbformat": 4,
 "nbformat_minor": 2
}
